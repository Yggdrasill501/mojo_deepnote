fn main():
    var x: String = "Hello Deepnote from Mojo xD."
    print(x)

if __main__ == '__name__':
  main()
